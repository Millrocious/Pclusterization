{
 "cells": [
  {
   "metadata": {
    "_cell_guid": "cbeae481-b720-4db4-921d-6f2c898d6a37",
    "_uuid": "1fb25b113b7cd63edf80f827cf0a8cf31d7c9804"
   },
   "cell_type": "markdown",
   "source": [
    "# Imports"
   ]
  },
  {
   "cell_type": "code",
   "execution_count": null,
   "outputs": [],
   "source": [
    "# Import necessary libraries\n",
    "from copy import deepcopy\n",
    "import numpy as np # linear algebra\n",
    "import pandas as pd # data processing, CSV file I/O (e.g. pd.read_csv)\n",
    "from matplotlib import pyplot as plt"
   ],
   "metadata": {
    "collapsed": false
   }
  },
  {
   "metadata": {
    "_cell_guid": "d6c56b06-d4be-4507-8543-eca0cf3fcee7",
    "_uuid": "60a0fc5eb5a6585c16012bb73a3f5352fd7dbebb",
    "collapsed": true,
    "trusted": true
   },
   "cell_type": "code",
   "source": [
    "df = pd.read_csv(\"Iris.csv\") #load the dataset\n",
    "df.drop('Id',axis=1,inplace=True)"
   ],
   "execution_count": 110,
   "outputs": []
  },
  {
   "metadata": {
    "trusted": true,
    "_uuid": "beb0af7e357cd45f7630639449d7e463e16751c3"
   },
   "cell_type": "code",
   "source": [
    "df.head()"
   ],
   "execution_count": 111,
   "outputs": []
  },
  {
   "metadata": {
    "trusted": true,
    "_uuid": "051acd8793e360345a375fd4e4dd5edce5c87c12"
   },
   "cell_type": "code",
   "source": [
    "# Change categorical data to number 0-2\n",
    "df[\"Species\"] = pd.Categorical(df[\"Species\"])\n",
    "df[\"Species\"] = df[\"Species\"].cat.codes\n",
    "# Change dataframe to numpy matrix\n",
    "data = df.values[:, 0:4]\n",
    "category = df.values[:, 4]"
   ],
   "execution_count": 112,
   "outputs": []
  },
  {
   "metadata": {
    "trusted": true,
    "_uuid": "ebb96f300feda0789ea79ff2413dc3f797d3792e"
   },
   "cell_type": "code",
   "source": [
    "# Number of clusters\n",
    "k = 3\n",
    "# Number of training data\n",
    "n = data.shape[0]\n",
    "# Number of features in the data\n",
    "c = data.shape[1]\n",
    "\n",
    "# Generate random centers, here we use sigma and mean to ensure it represent the whole data\n",
    "mean = np.mean(data, axis = 0)\n",
    "std = np.std(data, axis = 0)\n",
    "centers = np.random.randn(k,c)*std + mean\n",
    "\n",
    "# Plot the data and the centers generated as random\n",
    "colors=['orange', 'blue', 'green']\n",
    "for i in range(n):\n",
    "    plt.scatter(data[i, 0], data[i,1], s=7, color = colors[int(category[i])])\n",
    "plt.scatter(centers[:,0], centers[:,1], marker='*', c='g', s=150)"
   ],
   "execution_count": 113,
   "outputs": []
  },
  {
   "metadata": {
    "trusted": true,
    "_uuid": "9130e49ffd32229a737da3dc4b9d74ab7f3952c6"
   },
   "cell_type": "code",
   "source": [
    "centers_old = np.zeros(centers.shape) # to store old centers\n",
    "centers_new = deepcopy(centers) # Store new centers\n",
    "\n",
    "data.shape\n",
    "clusters = np.zeros(n)\n",
    "distances = np.zeros((n,k))\n",
    "\n",
    "error = np.linalg.norm(centers_new - centers_old)\n",
    "\n",
    "# When, after an update, the estimate of that center stays the same, exit loop\n",
    "while error != 0:\n",
    "    # Measure the distance to every center\n",
    "    for i in range(k):\n",
    "        distances[:,i] = np.linalg.norm(data - centers[i], axis=1)\n",
    "    # Assign all training data to closest center\n",
    "    clusters = np.argmin(distances, axis = 1)\n",
    "    \n",
    "    centers_old = deepcopy(centers_new)\n",
    "    # Calculate mean for every cluster and update the center\n",
    "    for i in range(k):\n",
    "        centers_new[i] = np.mean(data[clusters == i], axis=0)\n",
    "    error = np.linalg.norm(centers_new - centers_old)\n",
    "centers_new    "
   ],
   "execution_count": 114,
   "outputs": []
  },
  {
   "metadata": {
    "trusted": true,
    "_uuid": "4e7191388366bd12ae7e69284cc41d2f651d28da"
   },
   "cell_type": "code",
   "source": [
    "# Plot the data and the centers generated as random\n",
    "colors=['orange', 'blue', 'green']\n",
    "for i in range(n):\n",
    "    plt.scatter(data[i, 0], data[i,1], s=7, color = colors[int(category[i])])\n",
    "plt.scatter(centers_new[:,0], centers_new[:,1], marker='*', c='g', s=150)"
   ],
   "execution_count": 115,
   "outputs": []
  }
 ],
 "metadata": {
  "kernelspec": {
   "display_name": "Python 3",
   "language": "python",
   "name": "python3"
  },
  "language_info": {
   "name": "python",
   "version": "3.6.4",
   "mimetype": "text/x-python",
   "codemirror_mode": {
    "name": "ipython",
    "version": 3
   },
   "pygments_lexer": "ipython3",
   "nbconvert_exporter": "python",
   "file_extension": ".py"
  }
 },
 "nbformat": 4,
 "nbformat_minor": 1
}
